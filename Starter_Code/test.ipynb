{
 "cells": [
  {
   "cell_type": "code",
   "execution_count": 1,
   "id": "df55664d-76ad-4081-b034-299e1a4c4707",
   "metadata": {
    "tags": []
   },
   "outputs": [],
   "source": [
    "################################################################################\n",
    "# Imports\n",
    "import os\n",
    "import requests\n",
    "from dotenv import load_dotenv\n",
    "import math\n",
    "\n",
    "load_dotenv()\n",
    "from bip44 import Wallet\n",
    "from web3 import Account\n",
    "from web3 import middleware\n",
    "from web3.gas_strategies.time_based import medium_gas_price_strategy"
   ]
  },
  {
   "cell_type": "code",
   "execution_count": 6,
   "id": "30ab3ea1-4ce9-46db-a5e3-794aa435ba00",
   "metadata": {
    "tags": []
   },
   "outputs": [],
   "source": [
    "from dataclasses import dataclass\n",
    "from typing import Any, List\n",
    "from web3 import Web3\n",
    "\n",
    "w3 = Web3(Web3.HTTPProvider(\"HTTP://127.0.0.1:7545\"))"
   ]
  },
  {
   "cell_type": "code",
   "execution_count": 61,
   "id": "2871229f-281c-4c2f-a504-0acf58745290",
   "metadata": {
    "tags": []
   },
   "outputs": [
    {
     "data": {
      "text/plain": [
       "\"b'}M\\\\x886H\\\\xc6\\\\xae|O@q\\\\x94%s\\\\x9a\\\\xf0\\\\xc3q\\\\x1b&Y\\\\xd4\\\\x9c\\\\xc8\\\\x14\\\\xc8\\\\xe7\\\\x88RF\\\\xe3\\\\x8e'\""
      ]
     },
     "execution_count": 61,
     "metadata": {},
     "output_type": "execute_result"
    }
   ],
   "source": [
    "def send_transaction(w3, account, to, wage):\n",
    "    \"\"\"Send an authorized transaction to the Ganache blockchain.\"\"\"\n",
    "    # Set gas price strategy\n",
    "    block = w3.eth.get_block('latest')\n",
    "   # print(Web3.toInt(block.get('baseFeePerGas')))\n",
    "    next_gas_price = math.ceil((int(block.get('baseFeePerGas'), 16) * 1.251))\n",
    "    w3.eth.setGasPriceStrategy(medium_gas_price_strategy)\n",
    "\n",
    "    # Convert eth amount to Wei\n",
    "    value = w3.toWei(wage, \"ether\")\n",
    "    #print(\"wei value:\", value)\n",
    "\n",
    "    # Calculate gas estimate\n",
    "    gasEstimate = w3.eth.estimateGas(\n",
    "        {\"to\": to, \"from\": account.address, \"value\": value}\n",
    "    )\n",
    "\n",
    "    # Construct a raw transaction\n",
    "    raw_tx = {\n",
    "        \"to\": to,\n",
    "        \"from\": account.address,\n",
    "        \"value\": value,\n",
    "        \"gas\": gasEstimate,\n",
    "        \"gasPrice\": next_gas_price,\n",
    "        \"nonce\": w3.eth.getTransactionCount(account.address),\n",
    "    }\n",
    "\n",
    "    # Sign the raw transaction with ethereum account\n",
    "    signed_tx = account.signTransaction(raw_tx)\n",
    "\n",
    "    # Send the signed transactions\n",
    "    return str(w3.eth.sendRawTransaction(signed_tx.rawTransaction))\n",
    "\n",
    "send_transaction(w3, account, to, wage)"
   ]
  },
  {
   "cell_type": "code",
   "execution_count": 48,
   "id": "9340c870-2feb-455d-933c-164fc76c6982",
   "metadata": {
    "tags": []
   },
   "outputs": [],
   "source": [
    "def generate_account():\n",
    "    \"\"\"Create a digital wallet and Ethereum account from a mnemonic seed phrase.\"\"\"\n",
    "    # Fetch mnemonic from environment variable.\n",
    "    mnemonic = \"imitate machine basic empty chest link hip awful agree spawn address amount\"\n",
    "\n",
    "    # Create Wallet Object\n",
    "    wallet = Wallet(mnemonic)\n",
    "\n",
    "    # Derive Ethereum Private Key\n",
    "    private, public = wallet.derive_account(\"eth\")\n",
    "\n",
    "    # Convert private key into an Ethereum account\n",
    "    account = Account.privateKeyToAccount(private)\n",
    "\n",
    "    return account\n",
    "\n",
    "account = generate_account()"
   ]
  },
  {
   "cell_type": "code",
   "execution_count": 49,
   "id": "44bbde96-acd4-4254-b846-b753db21e3aa",
   "metadata": {
    "tags": []
   },
   "outputs": [],
   "source": [
    "to = \"0xE63442815d65bb6635c63C840fF1b9B70bA7d026\""
   ]
  },
  {
   "cell_type": "code",
   "execution_count": 50,
   "id": "1bdd592e-a239-4208-a67b-28b02d1a373a",
   "metadata": {
    "tags": []
   },
   "outputs": [],
   "source": [
    "hourly_rate = 0.20\n",
    "hours = 6\n",
    "wage = hourly_rate * hours\n"
   ]
  },
  {
   "cell_type": "code",
   "execution_count": 51,
   "id": "199b6af1-aa9a-46f1-a96d-6bd6e3176393",
   "metadata": {
    "tags": []
   },
   "outputs": [
    {
     "ename": "TypeError",
     "evalue": "Pass in strings with keyword hexstr or text",
     "output_type": "error",
     "traceback": [
      "\u001b[0;31m---------------------------------------------------------------------------\u001b[0m",
      "\u001b[0;31mTypeError\u001b[0m                                 Traceback (most recent call last)",
      "Cell \u001b[0;32mIn[51], line 1\u001b[0m\n\u001b[0;32m----> 1\u001b[0m \u001b[43msend_transaction\u001b[49m\u001b[43m(\u001b[49m\u001b[43mw3\u001b[49m\u001b[43m,\u001b[49m\u001b[43m \u001b[49m\u001b[43maccount\u001b[49m\u001b[43m,\u001b[49m\u001b[43m \u001b[49m\u001b[43mto\u001b[49m\u001b[43m,\u001b[49m\u001b[43m \u001b[49m\u001b[43mwage\u001b[49m\u001b[43m)\u001b[49m\n",
      "Cell \u001b[0;32mIn[47], line 5\u001b[0m, in \u001b[0;36msend_transaction\u001b[0;34m(w3, account, to, wage)\u001b[0m\n\u001b[1;32m      3\u001b[0m \u001b[38;5;66;03m# Set gas price strategy\u001b[39;00m\n\u001b[1;32m      4\u001b[0m block \u001b[38;5;241m=\u001b[39m w3\u001b[38;5;241m.\u001b[39meth\u001b[38;5;241m.\u001b[39mget_block(\u001b[38;5;124m'\u001b[39m\u001b[38;5;124mlatest\u001b[39m\u001b[38;5;124m'\u001b[39m)\n\u001b[0;32m----> 5\u001b[0m \u001b[38;5;28mprint\u001b[39m(\u001b[43mWeb3\u001b[49m\u001b[38;5;241;43m.\u001b[39;49m\u001b[43mtoInt\u001b[49m\u001b[43m(\u001b[49m\u001b[43mblock\u001b[49m\u001b[38;5;241;43m.\u001b[39;49m\u001b[43mget\u001b[49m\u001b[43m(\u001b[49m\u001b[38;5;124;43m'\u001b[39;49m\u001b[38;5;124;43mbaseFeePerGas\u001b[39;49m\u001b[38;5;124;43m'\u001b[39;49m\u001b[43m)\u001b[49m\u001b[43m)\u001b[49m)\n\u001b[1;32m      6\u001b[0m next_gas_price \u001b[38;5;241m=\u001b[39m math\u001b[38;5;241m.\u001b[39mceil((Web3\u001b[38;5;241m.\u001b[39mtoInt(block\u001b[38;5;241m.\u001b[39mget(\u001b[38;5;124m'\u001b[39m\u001b[38;5;124mbaseFeePerGas\u001b[39m\u001b[38;5;124m'\u001b[39m)) \u001b[38;5;241m*\u001b[39m \u001b[38;5;241m1.251\u001b[39m))\n\u001b[1;32m      7\u001b[0m w3\u001b[38;5;241m.\u001b[39meth\u001b[38;5;241m.\u001b[39msetGasPriceStrategy(medium_gas_price_strategy)\n",
      "File \u001b[0;32m~/anaconda3/envs/dev/lib/python3.10/site-packages/eth_utils/decorators.py:76\u001b[0m, in \u001b[0;36mvalidate_conversion_arguments.<locals>.wrapper\u001b[0;34m(*args, **kwargs)\u001b[0m\n\u001b[1;32m     74\u001b[0m \u001b[38;5;28;01mif\u001b[39;00m \u001b[38;5;28mlen\u001b[39m(args) \u001b[38;5;241m==\u001b[39m \u001b[38;5;241m0\u001b[39m \u001b[38;5;129;01mand\u001b[39;00m \u001b[38;5;124m\"\u001b[39m\u001b[38;5;124mprimitive\u001b[39m\u001b[38;5;124m\"\u001b[39m \u001b[38;5;129;01mnot\u001b[39;00m \u001b[38;5;129;01min\u001b[39;00m kwargs:\n\u001b[1;32m     75\u001b[0m     _assert_hexstr_or_text_kwarg_is_text_type(\u001b[38;5;241m*\u001b[39m\u001b[38;5;241m*\u001b[39mkwargs)\n\u001b[0;32m---> 76\u001b[0m \u001b[38;5;28;01mreturn\u001b[39;00m \u001b[43mto_wrap\u001b[49m\u001b[43m(\u001b[49m\u001b[38;5;241;43m*\u001b[39;49m\u001b[43margs\u001b[49m\u001b[43m,\u001b[49m\u001b[43m \u001b[49m\u001b[38;5;241;43m*\u001b[39;49m\u001b[38;5;241;43m*\u001b[39;49m\u001b[43mkwargs\u001b[49m\u001b[43m)\u001b[49m\n",
      "File \u001b[0;32m~/anaconda3/envs/dev/lib/python3.10/site-packages/eth_utils/conversions.py:76\u001b[0m, in \u001b[0;36mto_int\u001b[0;34m(primitive, hexstr, text)\u001b[0m\n\u001b[1;32m     74\u001b[0m     \u001b[38;5;28;01mreturn\u001b[39;00m big_endian_to_int(primitive)\n\u001b[1;32m     75\u001b[0m \u001b[38;5;28;01melif\u001b[39;00m \u001b[38;5;28misinstance\u001b[39m(primitive, \u001b[38;5;28mstr\u001b[39m):\n\u001b[0;32m---> 76\u001b[0m     \u001b[38;5;28;01mraise\u001b[39;00m \u001b[38;5;167;01mTypeError\u001b[39;00m(\u001b[38;5;124m\"\u001b[39m\u001b[38;5;124mPass in strings with keyword hexstr or text\u001b[39m\u001b[38;5;124m\"\u001b[39m)\n\u001b[1;32m     77\u001b[0m \u001b[38;5;28;01melif\u001b[39;00m \u001b[38;5;28misinstance\u001b[39m(primitive, (\u001b[38;5;28mint\u001b[39m, \u001b[38;5;28mbool\u001b[39m)):\n\u001b[1;32m     78\u001b[0m     \u001b[38;5;28;01mreturn\u001b[39;00m \u001b[38;5;28mint\u001b[39m(primitive)\n",
      "\u001b[0;31mTypeError\u001b[0m: Pass in strings with keyword hexstr or text"
     ]
    }
   ],
   "source": [
    "send_transaction(w3, account, to, wage)"
   ]
  },
  {
   "cell_type": "code",
   "execution_count": 44,
   "id": "e8a7b138-e851-4a1e-b139-f80f05888ca3",
   "metadata": {
    "tags": []
   },
   "outputs": [
    {
     "data": {
      "text/plain": [
       "0"
      ]
     },
     "execution_count": 44,
     "metadata": {},
     "output_type": "execute_result"
    }
   ],
   "source": [
    "Web3.toInt(0)"
   ]
  },
  {
   "cell_type": "code",
   "execution_count": 53,
   "id": "86226f0d-4135-4597-9dc2-e20a812dd00a",
   "metadata": {
    "tags": []
   },
   "outputs": [
    {
     "data": {
      "text/plain": [
       "'0x2da282a8'"
      ]
     },
     "execution_count": 53,
     "metadata": {},
     "output_type": "execute_result"
    }
   ],
   "source": [
    "block = w3.eth.get_block('latest')\n",
    "#print(Web3.toInt(block.get('baseFeePerGas')))\n",
    "block.get('baseFeePerGas')"
   ]
  },
  {
   "cell_type": "code",
   "execution_count": 56,
   "id": "adfaabad-96a8-4ba2-a76c-7511a4261e72",
   "metadata": {
    "tags": []
   },
   "outputs": [
    {
     "ename": "TypeError",
     "evalue": "Pass in strings with keyword hexstr or text",
     "output_type": "error",
     "traceback": [
      "\u001b[0;31m---------------------------------------------------------------------------\u001b[0m",
      "\u001b[0;31mTypeError\u001b[0m                                 Traceback (most recent call last)",
      "Cell \u001b[0;32mIn[56], line 1\u001b[0m\n\u001b[0;32m----> 1\u001b[0m \u001b[43mWeb3\u001b[49m\u001b[38;5;241;43m.\u001b[39;49m\u001b[43mtoInt\u001b[49m\u001b[43m(\u001b[49m\u001b[38;5;124;43m\"\u001b[39;49m\u001b[38;5;124;43m0x2da282a8\u001b[39;49m\u001b[38;5;124;43m\"\u001b[39;49m\u001b[43m)\u001b[49m\n",
      "File \u001b[0;32m~/anaconda3/envs/dev/lib/python3.10/site-packages/eth_utils/decorators.py:76\u001b[0m, in \u001b[0;36mvalidate_conversion_arguments.<locals>.wrapper\u001b[0;34m(*args, **kwargs)\u001b[0m\n\u001b[1;32m     74\u001b[0m \u001b[38;5;28;01mif\u001b[39;00m \u001b[38;5;28mlen\u001b[39m(args) \u001b[38;5;241m==\u001b[39m \u001b[38;5;241m0\u001b[39m \u001b[38;5;129;01mand\u001b[39;00m \u001b[38;5;124m\"\u001b[39m\u001b[38;5;124mprimitive\u001b[39m\u001b[38;5;124m\"\u001b[39m \u001b[38;5;129;01mnot\u001b[39;00m \u001b[38;5;129;01min\u001b[39;00m kwargs:\n\u001b[1;32m     75\u001b[0m     _assert_hexstr_or_text_kwarg_is_text_type(\u001b[38;5;241m*\u001b[39m\u001b[38;5;241m*\u001b[39mkwargs)\n\u001b[0;32m---> 76\u001b[0m \u001b[38;5;28;01mreturn\u001b[39;00m \u001b[43mto_wrap\u001b[49m\u001b[43m(\u001b[49m\u001b[38;5;241;43m*\u001b[39;49m\u001b[43margs\u001b[49m\u001b[43m,\u001b[49m\u001b[43m \u001b[49m\u001b[38;5;241;43m*\u001b[39;49m\u001b[38;5;241;43m*\u001b[39;49m\u001b[43mkwargs\u001b[49m\u001b[43m)\u001b[49m\n",
      "File \u001b[0;32m~/anaconda3/envs/dev/lib/python3.10/site-packages/eth_utils/conversions.py:76\u001b[0m, in \u001b[0;36mto_int\u001b[0;34m(primitive, hexstr, text)\u001b[0m\n\u001b[1;32m     74\u001b[0m     \u001b[38;5;28;01mreturn\u001b[39;00m big_endian_to_int(primitive)\n\u001b[1;32m     75\u001b[0m \u001b[38;5;28;01melif\u001b[39;00m \u001b[38;5;28misinstance\u001b[39m(primitive, \u001b[38;5;28mstr\u001b[39m):\n\u001b[0;32m---> 76\u001b[0m     \u001b[38;5;28;01mraise\u001b[39;00m \u001b[38;5;167;01mTypeError\u001b[39;00m(\u001b[38;5;124m\"\u001b[39m\u001b[38;5;124mPass in strings with keyword hexstr or text\u001b[39m\u001b[38;5;124m\"\u001b[39m)\n\u001b[1;32m     77\u001b[0m \u001b[38;5;28;01melif\u001b[39;00m \u001b[38;5;28misinstance\u001b[39m(primitive, (\u001b[38;5;28mint\u001b[39m, \u001b[38;5;28mbool\u001b[39m)):\n\u001b[1;32m     78\u001b[0m     \u001b[38;5;28;01mreturn\u001b[39;00m \u001b[38;5;28mint\u001b[39m(primitive)\n",
      "\u001b[0;31mTypeError\u001b[0m: Pass in strings with keyword hexstr or text"
     ]
    }
   ],
   "source": [
    "Web3.toInt(\"0x2da282a8\")"
   ]
  },
  {
   "cell_type": "code",
   "execution_count": 58,
   "id": "2e8fcf45-b4d7-4794-b21f-ff3c5f18a2b0",
   "metadata": {
    "tags": []
   },
   "outputs": [
    {
     "data": {
      "text/plain": [
       "765625000"
      ]
     },
     "execution_count": 58,
     "metadata": {},
     "output_type": "execute_result"
    }
   ],
   "source": [
    "int(\"0x2da282a8\", 16)"
   ]
  },
  {
   "cell_type": "code",
   "execution_count": null,
   "id": "6c37873d-9b95-4359-b6e5-c8df786ca251",
   "metadata": {},
   "outputs": [],
   "source": []
  }
 ],
 "metadata": {
  "kernelspec": {
   "display_name": "Python 3 (ipykernel)",
   "language": "python",
   "name": "python3"
  },
  "language_info": {
   "codemirror_mode": {
    "name": "ipython",
    "version": 3
   },
   "file_extension": ".py",
   "mimetype": "text/x-python",
   "name": "python",
   "nbconvert_exporter": "python",
   "pygments_lexer": "ipython3",
   "version": "3.10.13"
  }
 },
 "nbformat": 4,
 "nbformat_minor": 5
}
